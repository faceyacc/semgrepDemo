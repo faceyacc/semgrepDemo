{
 "cells": [
  {
   "cell_type": "markdown",
   "id": "c94364a5-4e07-41e7-9e6a-b538aa5d3a22",
   "metadata": {},
   "source": [
    "# Import Modules"
   ]
  },
  {
   "cell_type": "code",
   "execution_count": null,
   "id": "b6334207-bb3c-4fdb-b27b-8925aee362a4",
   "metadata": {},
   "outputs": [],
   "source": [
    "import driverlessai\n",
    "import pyspark as ps\n",
    "from pyspark.sql.functions import col, pandas_udf\n",
    "from pyspark.sql.types import LongType\n",
    "import getpass\n",
    "import os\n",
    "import pandas as pd"
   ]
  },
  {
   "cell_type": "markdown",
   "id": "ce529211-99bb-4f4e-a67a-5c9ad4262886",
   "metadata": {},
   "source": [
    "# Data Wrangling & Feature Engineering"
   ]
  },
  {
   "cell_type": "markdown",
   "id": "30d56cc5-6611-4d21-8efc-3f0361c76541",
   "metadata": {},
   "source": [
    "### Import Data\n",
    "Blah blah blah"
   ]
  },
  {
   "cell_type": "markdown",
   "id": "a22a78a3-a84a-476f-8579-73ff7007fda6",
   "metadata": {},
   "source": [
    "### Create UDF\n",
    "As an example, we'd want to create a rule to find functions created using pandas_udf()."
   ]
  },
  {
   "cell_type": "code",
   "execution_count": null,
   "id": "37561c9e-4ff1-4b93-b33d-08caa3c5a532",
   "metadata": {},
   "outputs": [],
   "source": [
    "def trivial_example_function(a, b):\n",
    "    return a * b\n",
    "\n",
    "trivial_ex = pandas_udf(trivial_example_function, returnType = LongType())"
   ]
  },
  {
   "cell_type": "markdown",
   "id": "20bc279c-2cea-4420-8293-5694e0204547",
   "metadata": {},
   "source": [
    "### Apply UDF"
   ]
  },
  {
   "cell_type": "code",
   "execution_count": null,
   "id": "71051e99-eee9-4bbc-acee-6b8f30b4a5db",
   "metadata": {},
   "outputs": [],
   "source": [
    "df.select(trivial_ex(col(\"price\"), col(\"quantity\"))).show()"
   ]
  },
  {
   "cell_type": "markdown",
   "id": "de7a969c-e777-41b8-999f-21b7703510ac",
   "metadata": {},
   "source": [
    "# Connect to HPC Cluster"
   ]
  },
  {
   "cell_type": "markdown",
   "id": "49169093-b3ba-4a6c-8b6b-2bf12dc7b70d",
   "metadata": {},
   "source": [
    "### Provide Connection Parameters\n",
    "We'd also want to create a rule to find hard coded passwords."
   ]
  },
  {
   "cell_type": "code",
   "execution_count": null,
   "id": "8a72c36b-4b48-4db7-978f-2dfce968d3ee",
   "metadata": {},
   "outputs": [],
   "source": [
    "username = \"BobLaBlah\"\n",
    "password = \"123456789\"\n",
    "driverlessaiAddress = \"https://hostname.wellsfargo.net:12345\"\n",
    "pathToCerts = \"path/to/certs/file.pem\""
   ]
  },
  {
   "cell_type": "markdown",
   "id": "ebd9f2fe-fe47-4d41-99e5-a386770b1590",
   "metadata": {},
   "source": [
    "### Connect to Driverless AI"
   ]
  },
  {
   "cell_type": "code",
   "execution_count": null,
   "id": "fe9fd556-6740-4cc9-9767-2792daf46a3a",
   "metadata": {},
   "outputs": [],
   "source": [
    "dai = driverlessai.Client(address = driverlessaiAddress,\n",
    "                          username = username,\n",
    "                          password = password,\n",
    "                          verify = pathToCerts)"
   ]
  },
  {
   "cell_type": "markdown",
   "id": "8a479e15-6937-4d6f-8aa8-238f59014df4",
   "metadata": {},
   "source": [
    "# Do Some Stuff\n",
    "Blah blah blah"
   ]
  }
 ],
 "metadata": {
  "kernelspec": {
   "display_name": "Python 3",
   "language": "python",
   "name": "python3"
  },
  "language_info": {
   "codemirror_mode": {
    "name": "ipython",
    "version": 3
   },
   "file_extension": ".py",
   "mimetype": "text/x-python",
   "name": "python",
   "nbconvert_exporter": "python",
   "pygments_lexer": "ipython3",
   "version": "3.9.7"
  }
 },
 "nbformat": 4,
 "nbformat_minor": 5
}
